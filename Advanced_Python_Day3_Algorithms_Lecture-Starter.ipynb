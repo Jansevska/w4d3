{
 "cells": [
  {
   "cell_type": "markdown",
   "metadata": {},
   "source": [
    "# Classic Algorithms"
   ]
  },
  {
   "cell_type": "markdown",
   "metadata": {},
   "source": [
    "## Tasks Today:\n",
    "\n",
    "1) <b>Intro to Algorithms</b> <br>\n",
    " &nbsp;&nbsp;&nbsp;&nbsp; a) What are algorithms <br>\n",
    " &nbsp;&nbsp;&nbsp;&nbsp; b) Quick Intro to Big-O Notation <br>\n",
    "2) <b>In-Place Algorithms</b> <br>\n",
    " &nbsp;&nbsp;&nbsp;&nbsp; a) Syntax <br>\n",
    " &nbsp;&nbsp;&nbsp;&nbsp; a) Out of Place Algorithm <br>\n",
    " &nbsp;&nbsp;&nbsp;&nbsp; b) In-Class Exercise #1 <br>\n",
    "3) <b>Two Pointers</b> <br>\n",
    "4) <b>Sorting Algorithms</b> <br>\n",
    "5) <b>Merge Sort</b> <br>\n",
    " &nbsp;&nbsp;&nbsp;&nbsp; a) Video on Algorithms <br>\n",
    " &nbsp;&nbsp;&nbsp;&nbsp; b) How it Works <br>\n",
    "6) <b>Exercises</b> <br>\n",
    " &nbsp;&nbsp;&nbsp;&nbsp; a) Exercise #1 - Reverse a List in Place Using an In-Place Algorithm <br>\n",
    " &nbsp;&nbsp;&nbsp;&nbsp; b) Exercise #2 - Find Distinct Words <br>\n",
    " &nbsp;&nbsp;&nbsp;&nbsp; c) Exercise #3 - Write a program to implement a Linear Search Algorithm. <br>"
   ]
  },
  {
   "cell_type": "markdown",
   "metadata": {},
   "source": [
    "## Intro to Algorithms"
   ]
  },
  {
   "cell_type": "markdown",
   "metadata": {},
   "source": [
    "#### What is an algorithm"
   ]
  },
  {
   "cell_type": "markdown",
   "metadata": {},
   "source": [
    "- An algorithm is a set of instructions for solving a problem \n",
    "- Algorithms are used to solve all types of problems such as sorting data and searching for information\n",
    "- Being able to write efficient algorithms is an important part of being a computer programmer"
   ]
  },
  {
   "cell_type": "markdown",
   "metadata": {},
   "source": [
    "#### Quick Intro to Big O Notation"
   ]
  },
  {
   "cell_type": "markdown",
   "metadata": {},
   "source": [
    "Time and space complexity is the measure of how much time a given action(function) will take to solve a problem. In the same fashion, we determine how much a given data structure will need in terms of memory allocation. A problem can have multiple solutions and finding the optimal solution for the problem needs to be analyzed in time and space.\n",
    "<br>\n",
    "See more <a href=\"https://zippy-lan-200.notion.site/Intro-to-Time-Complexity-ae4a9c7dbefb4b9f9351ade7a2b2fa72\">here</a>"
   ]
  },
  {
   "cell_type": "markdown",
   "metadata": {},
   "source": [
    "## In-Place Algorithms"
   ]
  },
  {
   "cell_type": "markdown",
   "metadata": {},
   "source": [
    "#### Syntax"
   ]
  },
  {
   "cell_type": "code",
   "execution_count": 11,
   "metadata": {},
   "outputs": [],
   "source": [
    "my_list = [1, 2, 3, 4, 5, 6]"
   ]
  },
  {
   "cell_type": "code",
   "execution_count": 12,
   "metadata": {},
   "outputs": [
    {
     "data": {
      "text/plain": [
       "[1, 5, 3, 4, 2, 6]"
      ]
     },
     "execution_count": 12,
     "metadata": {},
     "output_type": "execute_result"
    }
   ],
   "source": [
    "def swap(a_list, index1, index2):\n",
    "    temp = a_list[index1]\n",
    "    a_list[index1] = a_list[index2]\n",
    "    a_list[index2] = temp\n",
    "    return a_list\n",
    "\n",
    "\n",
    "swap(my_list, 1, 4)"
   ]
  },
  {
   "cell_type": "code",
   "execution_count": 13,
   "metadata": {},
   "outputs": [
    {
     "name": "stdout",
     "output_type": "stream",
     "text": [
      "Before: [1, 2, 3, 4, 5, 6]\n",
      "After: [1, 5, 3, 4, 2, 6]\n"
     ]
    }
   ],
   "source": [
    "# a_list[a], a_list[b] = a_list[b], a_list[a]\n",
    "\n",
    "# In Place \n",
    "\n",
    "my_list = [1, 2, 3, 4, 5, 6]\n",
    "def swap(a_list, index1, index2):\n",
    "    a_list[index1], a_list[index2] = a_list[index2], a_list[index1]\n",
    "    return a_list\n",
    "\n",
    "print('Before:', my_list)\n",
    "swap(my_list, 1, 4)\n",
    "print('After:', my_list)"
   ]
  },
  {
   "cell_type": "code",
   "execution_count": 14,
   "metadata": {},
   "outputs": [
    {
     "name": "stdout",
     "output_type": "stream",
     "text": [
      "[1, 5, 3, 4, 2, 6]\n"
     ]
    }
   ],
   "source": [
    "print(my_list)"
   ]
  },
  {
   "cell_type": "markdown",
   "metadata": {},
   "source": [
    "#### Out of Place Algorithm"
   ]
  },
  {
   "cell_type": "code",
   "execution_count": 15,
   "metadata": {
    "scrolled": true
   },
   "outputs": [
    {
     "name": "stdout",
     "output_type": "stream",
     "text": [
      "Before: [1, 2, 3, 4, 5, 6]\n",
      "After: [1, 2, 3, 4, 5, 6]\n",
      "My New List: [1, 5, 3, 4, 2, 6]\n"
     ]
    }
   ],
   "source": [
    "# Out of Place -> doesn't modify original list\n",
    "# Creates new list with solution\n",
    "\n",
    "def out_of_place_swap(a_list, index1, index2):\n",
    "    new_list = a_list[:]\n",
    "    new_list[index1] = a_list[index2]\n",
    "    new_list[index2] = a_list[index1]\n",
    "    return new_list\n",
    "\n",
    "\n",
    "my_list = [1, 2, 3, 4, 5, 6]\n",
    "\n",
    "print('Before:', my_list)\n",
    "my_new_list = out_of_place_swap(my_list, 1, 4)\n",
    "print('After:', my_list)\n",
    "print('My New List:', my_new_list)"
   ]
  },
  {
   "cell_type": "code",
   "execution_count": 16,
   "metadata": {},
   "outputs": [
    {
     "name": "stdout",
     "output_type": "stream",
     "text": [
      "Before [3, 8, 23, 6, 1, 6, 2]\n",
      "After [1, 2, 3, 6, 6, 8, 23]\n"
     ]
    }
   ],
   "source": [
    "unsorted_list = [3, 8, 23, 6, 1, 6, 2] #.sort() method is in-place\n",
    "\n",
    "print('Before', unsorted_list)\n",
    "unsorted_list.sort()\n",
    "print('After', unsorted_list)"
   ]
  },
  {
   "cell_type": "code",
   "execution_count": null,
   "metadata": {
    "scrolled": true
   },
   "outputs": [],
   "source": [
    "unsorted_list = [3, 8, 23, 6, 1, 6, 2] #sorted function out-of-place\n",
    "\n",
    "print('Before', unsorted_list)\n",
    "sorted_list = sorted(unsorted_list)\n",
    "print('After', unsorted_list)\n",
    "print(sorted_list)"
   ]
  },
  {
   "cell_type": "markdown",
   "metadata": {},
   "source": [
    "#### In-Class Exercise #1 <br>\n",
    "<p>Write a function that takes in four arguments (a_list, index1, index2, index3), and swaps those three positions in the list passed in.</p>"
   ]
  },
  {
   "cell_type": "code",
   "execution_count": 38,
   "metadata": {},
   "outputs": [
    {
     "name": "stdout",
     "output_type": "stream",
     "text": [
      "['Illinois', 'Indiana', 'Wisconsin', 'Minnesota', 'Michigan', 'Missouri']\n",
      "['Wisconsin', 'Indiana', 'Missouri', 'Minnesota', 'Michigan', 'Illinois']\n"
     ]
    }
   ],
   "source": [
    "def swap(a_list, a, b, c):\n",
    "    a_list[a], a_list[b], a_list[c] = a_list[b], a_list[c], a_list[a]\n",
    "    return a_list\n",
    "\n",
    "some_list = ['Illinois', 'Indiana', 'Wisconsin', 'Minnesota', 'Michigan', 'Missouri']\n",
    "print(some_list)\n",
    "x = swap(some_list, 0, 2, 5)\n",
    "print(x)\n",
    "#Possible Output: ['Illinois', 'Minnesota', 'Wisconsin', 'Michigan', 'Indiana', 'Missouri']"
   ]
  },
  {
   "cell_type": "markdown",
   "metadata": {},
   "source": [
    "## Two Pointers"
   ]
  },
  {
   "cell_type": "markdown",
   "metadata": {},
   "source": [
    "#### Syntax"
   ]
  },
  {
   "cell_type": "code",
   "execution_count": 39,
   "metadata": {},
   "outputs": [
    {
     "data": {
      "text/plain": [
       "[10, 9, 8, 7, 6, 5, 4, 3, 2, 1]"
      ]
     },
     "execution_count": 39,
     "metadata": {},
     "output_type": "execute_result"
    }
   ],
   "source": [
    "def swap_with_pointers(a_list):\n",
    "    # Create two variables to point to the index we are wanting to swap\n",
    "    left = 0 # first element in the list\n",
    "    right = len(a_list) - 1 # last element in the list\n",
    "    while left < right:\n",
    "        a_list[left], a_list[right] = a_list[right], a_list[left]\n",
    "        left += 1 # move the left index to the right by 1\n",
    "        right -= 1 # move the right index to the left by 1\n",
    "    return a_list\n",
    "\n",
    "\n",
    "my_list2 = [1, 2, 3, 4, 5, 6, 7, 8, 9, 10]\n",
    "\n",
    "swap_with_pointers(my_list2)"
   ]
  },
  {
   "cell_type": "code",
   "execution_count": 40,
   "metadata": {},
   "outputs": [
    {
     "name": "stdout",
     "output_type": "stream",
     "text": [
      "['Wisconsin', 'Indiana', 'Missouri', 'Minnesota', 'Michigan', 'Illinois']\n"
     ]
    }
   ],
   "source": [
    "print(some_list)"
   ]
  },
  {
   "cell_type": "code",
   "execution_count": 41,
   "metadata": {},
   "outputs": [
    {
     "name": "stdout",
     "output_type": "stream",
     "text": [
      "['Illinois', 'Michigan', 'Minnesota', 'Missouri', 'Indiana', 'Wisconsin']\n"
     ]
    }
   ],
   "source": [
    "x = swap_with_pointers(some_list)\n",
    "print(x)"
   ]
  },
  {
   "cell_type": "markdown",
   "metadata": {},
   "source": [
    "# Sorting Algorithms"
   ]
  },
  {
   "cell_type": "code",
   "execution_count": 46,
   "metadata": {},
   "outputs": [],
   "source": [
    "import random"
   ]
  },
  {
   "cell_type": "code",
   "execution_count": 47,
   "metadata": {},
   "outputs": [
    {
     "name": "stdout",
     "output_type": "stream",
     "text": [
      "[88, 25, 40, 95, 62, 75, 80, 47, 36, 57]\n"
     ]
    }
   ],
   "source": [
    "from random import randint\n",
    "\n",
    "list_to_sort = [random.randint(1,100) for _ in range(10)]\n",
    "print(list_to_sort)"
   ]
  },
  {
   "cell_type": "markdown",
   "metadata": {},
   "source": [
    "#### Bubble Sort\n",
    "\n",
    "Worst Case: O(n^2) Time - O(1) Space"
   ]
  },
  {
   "cell_type": "code",
   "execution_count": null,
   "metadata": {},
   "outputs": [],
   "source": [
    "def bubble_sort(lst):\n",
    "    # when we first start, set a var (made_swap) to True to begin the while loop\n",
    "    made_swap = True\n",
    "    while made_swap:\n",
    "        # Begin checking with the assumption (hope?) that we don't have to make any swaps (aka list is sorted)\n",
    "        made_swap = False\n",
    "        # start at the 0 index and loop through to the second to last index in the list\n",
    "        for idx in range(len(lst) -1):\n",
    "            # Check if the value at idx is greater than the value to its right\n",
    "            if lst[idx], lst[idx+1] = lst[idx+1], lst[idx]\n",
    "            "
   ]
  },
  {
   "cell_type": "code",
   "execution_count": 48,
   "metadata": {},
   "outputs": [
    {
     "data": {
      "text/plain": [
       "[25, 36, 40, 47, 57, 62, 75, 80, 88, 95]"
      ]
     },
     "execution_count": 48,
     "metadata": {},
     "output_type": "execute_result"
    }
   ],
   "source": [
    "def bubble_sort(lst):\n",
    "    # When we first start, assume the list is unsorted\n",
    "    is_sorted = False\n",
    "    # while the list is unsorted, loop through and bubble largest to top\n",
    "    while not is_sorted:\n",
    "        # Begin the for loop with the assumption that the list is sorted\n",
    "        is_sorted = True\n",
    "        for idx in range(len(lst) - 1):\n",
    "            # if the list at index idx is greater than the value to its right\n",
    "             if lst[idx] > lst[idx+1]:\n",
    "                # swap those two values\n",
    "                lst[idx], lst[idx+1] = lst[idx+1], lst[idx]\n",
    "                # if we have to to any swaps, say that our list is actually not sorted\n",
    "                is_sorted = False\n",
    "        \n",
    "    return lst\n",
    "        \n",
    "bubble_sort(list_to_sort)"
   ]
  },
  {
   "cell_type": "code",
   "execution_count": 49,
   "metadata": {},
   "outputs": [
    {
     "name": "stdout",
     "output_type": "stream",
     "text": [
      "['Illinois', 'Michigan', 'Minnesota', 'Missouri', 'Indiana', 'Wisconsin']\n"
     ]
    },
    {
     "data": {
      "text/plain": [
       "['Illinois', 'Indiana', 'Michigan', 'Minnesota', 'Missouri', 'Wisconsin']"
      ]
     },
     "execution_count": 49,
     "metadata": {},
     "output_type": "execute_result"
    }
   ],
   "source": [
    "print(some_list)\n",
    "bubble_sort(some_list)"
   ]
  },
  {
   "cell_type": "markdown",
   "metadata": {},
   "source": [
    "##### Insertion Sort\n",
    "\n",
    "Worst Case: O(n^2) time - O(1)space"
   ]
  },
  {
   "cell_type": "code",
   "execution_count": 52,
   "metadata": {},
   "outputs": [
    {
     "name": "stdout",
     "output_type": "stream",
     "text": [
      "[32, 26, 45, 13, 30, 67, 38, 41, 73, 89]\n"
     ]
    }
   ],
   "source": [
    "list_to_sort = [random.randint(1,100) for _ in range(10)]\n",
    "print(list_to_sort)"
   ]
  },
  {
   "cell_type": "code",
   "execution_count": null,
   "metadata": {},
   "outputs": [],
   "source": []
  },
  {
   "cell_type": "code",
   "execution_count": 56,
   "metadata": {},
   "outputs": [
    {
     "data": {
      "text/plain": [
       "[13, 26, 30, 32, 38, 41, 45, 67, 73, 89]"
      ]
     },
     "execution_count": 56,
     "metadata": {},
     "output_type": "execute_result"
    }
   ],
   "source": [
    "def insertion_sort(lst):\n",
    "    # Loop over the unordered section (start at 1 because 0-index is \"sorted\")\n",
    "    for i in range(1, len(lst)):\n",
    "        # While we're not at the front of the list AND the element to the left is less than our element\n",
    "#         pointer = i\n",
    "        while i > 0 and lst[i] < lst[i-1]:\n",
    "            # swap our element with the element to its left\n",
    "            lst[i], lst[i-1] = lst[i-1], lst[i]\n",
    "            # move our pointer left one element (to match the new swap)\n",
    "            i -= 1\n",
    "    return lst\n",
    "\n",
    "insertion_sort(list_to_sort)\n",
    "# list_to_sort = [32, 26, 45, 13, 30, 67, 38, 41, 73, 89]"
   ]
  },
  {
   "cell_type": "markdown",
   "metadata": {},
   "source": [
    "## Merge Sort"
   ]
  },
  {
   "cell_type": "markdown",
   "metadata": {},
   "source": [
    "#### How it Works"
   ]
  },
  {
   "cell_type": "code",
   "execution_count": 59,
   "metadata": {},
   "outputs": [
    {
     "name": "stdout",
     "output_type": "stream",
     "text": [
      "[42, 91, 81, 42, 37, 64, 39, 27, 41, 96]\n"
     ]
    }
   ],
   "source": [
    "list_to_sort = [random.randint(1,100) for _ in range(10)]\n",
    "print(list_to_sort)"
   ]
  },
  {
   "cell_type": "code",
   "execution_count": 60,
   "metadata": {},
   "outputs": [
    {
     "name": "stdout",
     "output_type": "stream",
     "text": [
      "Splitting... [42, 91, 81, 42, 37, 64, 39, 27, 41, 96]\n",
      "Splitting... [42, 91, 81, 42, 37]\n",
      "Splitting... [42, 91]\n",
      "Merging... [42]\n",
      "Merging... [91]\n",
      "Merging... [42, 91]\n",
      "Splitting... [81, 42, 37]\n",
      "Merging... [81]\n",
      "Splitting... [42, 37]\n",
      "Merging... [42]\n",
      "Merging... [37]\n",
      "Merging... [37, 42]\n",
      "Merging... [37, 42, 81]\n",
      "Merging... [37, 42, 42, 81, 91]\n",
      "Splitting... [64, 39, 27, 41, 96]\n",
      "Splitting... [64, 39]\n",
      "Merging... [64]\n",
      "Merging... [39]\n",
      "Merging... [39, 64]\n",
      "Splitting... [27, 41, 96]\n",
      "Merging... [27]\n",
      "Splitting... [41, 96]\n",
      "Merging... [41]\n",
      "Merging... [96]\n",
      "Merging... [41, 96]\n",
      "Merging... [27, 41, 96]\n",
      "Merging... [27, 39, 41, 64, 96]\n",
      "Merging... [27, 37, 39, 41, 42, 42, 64, 81, 91, 96]\n"
     ]
    },
    {
     "data": {
      "text/plain": [
       "[27, 37, 39, 41, 42, 42, 64, 81, 91, 96]"
      ]
     },
     "execution_count": 60,
     "metadata": {},
     "output_type": "execute_result"
    }
   ],
   "source": [
    "def merge_sort(lst):\n",
    "    if len(lst) > 1:\n",
    "        # Find the midway point of the list\n",
    "        mid = len(lst) // 2\n",
    "        print('Splitting...', lst)\n",
    "        left_half = lst[:mid]\n",
    "        right_half = lst[mid:]\n",
    "        \n",
    "        merge_sort(left_half)\n",
    "        merge_sort(right_half)\n",
    "        \n",
    "        # index pointers for our lists\n",
    "        l = 0 # pointer for left half list\n",
    "        r = 0 # pointer for right half list\n",
    "        m = 0 # pointer for main list\n",
    "        \n",
    "        while l < len(left_half) and r < len(right_half):\n",
    "            if left_half[l] < right_half[r]:\n",
    "                lst[m] = left_half[l]\n",
    "                l += 1\n",
    "            else:\n",
    "                lst[m] = right_half[r]\n",
    "                r += 1\n",
    "            m += 1\n",
    "       \n",
    "        while l < len(left_half):\n",
    "            lst[m] = left_half[l]\n",
    "            l += 1\n",
    "            m += 1\n",
    "            \n",
    "        while r < len(right_half):\n",
    "            lst[m] = right_half[r]\n",
    "            r += 1\n",
    "            m += 1\n",
    "        \n",
    "    print('Merging...', lst)\n",
    "    return lst\n",
    "\n",
    "\n",
    "merge_sort(list_to_sort)"
   ]
  },
  {
   "cell_type": "code",
   "execution_count": 58,
   "metadata": {},
   "outputs": [],
   "source": [
    "def merge_sort(lst):\n",
    "    if len(lst) > 1:\n",
    "        # find the midway point of the list\n",
    "        midway = len(lst) // 2\n",
    "        # split the list into left and right\n",
    "        print('Slitting...', lst)\n",
    "        left_half = lst[:midway]\n",
    "        right_half = lst[midway]\n",
    "        \n",
    "        # call merge sort on the left half\n",
    "        merge_sort(left_half)\n",
    "        # call merge sort on the right half\n",
    "        merge_sort(right_half)\n",
    "        \n",
    "        # Merge the left and right halves lists back into the original list\n",
    "        \n",
    "        # index pointers for our lists\n",
    "        l = 0 # pointer for left half\n",
    "        r = 0 # pointer for right half\n",
    "        m = 0 # pointer for main list\n",
    "        \n",
    "        # while we still have values in left and right\n",
    "        while l < len(left_half) and r < len(right_half):\n",
    "            # if the element we are pointing to in the left half in less than the element in the right half\n",
    "            if left_half[l] < right_half[r]:\n",
    "            # place the left half value in the original list\n",
    "                lst[m] = left_half[l]\n",
    "                # move our left pointer right one spot\n",
    "                l += 1\n",
    "            else:\n",
    "                # place the right half value in the original list\n",
    "                lst[m] = "
   ]
  },
  {
   "cell_type": "code",
   "execution_count": null,
   "metadata": {},
   "outputs": [],
   "source": [
    "list_to_sort\n"
   ]
  },
  {
   "cell_type": "markdown",
   "metadata": {},
   "source": [
    "# Binary Search\n",
    "\n",
    "The Binary Search algorithm works by finding the number in the middle of a given array and comparing it to the target. **Given that the array is sorted**\n",
    "\n",
    "* The worst case run time for this algorithm is `O(log(n))`"
   ]
  },
  {
   "cell_type": "code",
   "execution_count": 61,
   "metadata": {},
   "outputs": [
    {
     "name": "stdout",
     "output_type": "stream",
     "text": [
      "[2, 7, 9, 13, 21, 23, 35, 36, 36, 46, 50, 56, 60, 60, 63, 73, 74, 81, 91, 98]\n"
     ]
    }
   ],
   "source": [
    "list_to_search = [randint(1,100) for _ in range(20)]\n",
    "bubble_sort(list_to_search)\n",
    "print(list_to_search)"
   ]
  },
  {
   "cell_type": "code",
   "execution_count": 67,
   "metadata": {},
   "outputs": [
    {
     "data": {
      "text/plain": [
       "'The index for 81 is 17'"
      ]
     },
     "execution_count": 67,
     "metadata": {},
     "output_type": "execute_result"
    }
   ],
   "source": [
    "# Less == Left\n",
    "# Greater == Right\n",
    "# List of numbers MUST be sorted\n",
    "\n",
    "def binary_search(lst, target):\n",
    "    low = 0\n",
    "    high = len(lst) -1\n",
    "    while low <= high:\n",
    "        mid = (low + high) // 2\n",
    "        if target == lst[mid]:\n",
    "            return f'The index for {target} is {mid}'\n",
    "        elif target > lst[mid]:\n",
    "            low = mid +1\n",
    "        else:\n",
    "            high = mid -1\n",
    "            \n",
    "    # If low ever gets higher than high, we know the target is not in the list\n",
    "    return -1\n",
    "\n",
    "list_to_search = [2, 7, 9, 13, 21, 23, 35, 36, 36, 46, 50, 56, 60, 60, 63, 73, 74, 81, 91, 98]\n",
    "binary_search(list_to_search, 81)"
   ]
  },
  {
   "cell_type": "markdown",
   "metadata": {},
   "source": [
    "# Exercises"
   ]
  },
  {
   "cell_type": "markdown",
   "metadata": {},
   "source": [
    "### Exercise #1 <br>\n",
    "<p>Write a function that takes a list of integers and returns the median value</p>"
   ]
  },
  {
   "cell_type": "code",
   "execution_count": 76,
   "metadata": {},
   "outputs": [
    {
     "name": "stdout",
     "output_type": "stream",
     "text": [
      "4.5\n"
     ]
    }
   ],
   "source": [
    "intlist = [1, 2, 3, 4, 5, 6, 7, 8, 9]\n",
    "\n",
    "def mid_value(lst):\n",
    "    for i in lst:\n",
    "        low = 0\n",
    "        high = len(lst)\n",
    "        mid = (low+high / 2)\n",
    "        return mid\n",
    "\n",
    "print(mid_value(intlist))"
   ]
  },
  {
   "cell_type": "markdown",
   "metadata": {},
   "source": [
    "### Exercise #2 <br>\n",
    "<p>Create a function that counts how many distinct words are in the string below, then outputs a dictionary with the words as the key and the value as the amount of times that word appears in the string.</p>\n",
    "Example Output:<code>{'in': 1, 'computing': 1, 'a': 5, ...}</code>"
   ]
  },
  {
   "cell_type": "code",
   "execution_count": 137,
   "metadata": {},
   "outputs": [
    {
     "name": "stdout",
     "output_type": "stream",
     "text": [
      "{'In': 1, 'computing,': 1, 'a': 4, 'hash': 4, 'table': 2, 'map': 2, 'is': 1, 'data': 2, 'structure': 2, 'which': 2, 'implements': 1, 'an': 3, 'associative': 1, 'array': 2, 'abstract': 1, 'type,': 1, 'that': 1, 'can': 2, 'keys': 1, 'to': 2, 'values.': 1, 'A': 1, 'uses': 1, 'function': 1, 'compute': 1, 'index': 1, 'into': 1, 'of': 1, 'buckets': 1, 'or': 1, 'slots': 1, 'from': 1, 'the': 1, 'desired': 1, 'value': 1, 'be': 1, 'found': 1}\n"
     ]
    }
   ],
   "source": [
    "a_text = 'In computing, a hash table hash map is a data structure which implements an associative array abstract data type, a structure that can map keys to values. A hash table uses a hash function to compute an index into an array of buckets or slots from which the desired value can be found'\n",
    "# print(a_text.split())\n",
    "\n",
    "def word_count(string):\n",
    "    words = string.split()\n",
    "    track = {}\n",
    "    for word in words:\n",
    "        if word in track:\n",
    "            track[word] += 1\n",
    "        else:\n",
    "            track[word] = 1\n",
    "            \n",
    "    return track\n",
    "\n",
    "print(word_count(a_text))\n",
    "            \n",
    "        "
   ]
  },
  {
   "cell_type": "markdown",
   "metadata": {},
   "source": [
    "## Exercise #3\n",
    "\n",
    "Write a function implementing a Linear Search Algorithm. A linear search is a method for finding an element within a list. It sequentially checks each element of the list until a match is found or the whole list has been searched. If you do not find a match, return -1"
   ]
  },
  {
   "cell_type": "code",
   "execution_count": 139,
   "metadata": {},
   "outputs": [
    {
     "data": {
      "text/plain": [
       "'9 is found at index 8'"
      ]
     },
     "execution_count": 139,
     "metadata": {},
     "output_type": "execute_result"
    }
   ],
   "source": [
    "intlist = [1, 2, 3, 4, 5, 6, 7, 8, 9]\n",
    "\n",
    "def lin_search(lst, target):\n",
    "    for idx in range(len(lst)):\n",
    "        if lst[idx] == target:\n",
    "            return f\"{target} is found at index {idx}\"\n",
    "    return -1\n",
    "    \n",
    "lin_search((intlist), 9)"
   ]
  },
  {
   "cell_type": "code",
   "execution_count": null,
   "metadata": {},
   "outputs": [],
   "source": []
  }
 ],
 "metadata": {
  "kernelspec": {
   "display_name": "Python 3 (ipykernel)",
   "language": "python",
   "name": "python3"
  },
  "language_info": {
   "codemirror_mode": {
    "name": "ipython",
    "version": 3
   },
   "file_extension": ".py",
   "mimetype": "text/x-python",
   "name": "python",
   "nbconvert_exporter": "python",
   "pygments_lexer": "ipython3",
   "version": "3.11.4"
  }
 },
 "nbformat": 4,
 "nbformat_minor": 2
}
